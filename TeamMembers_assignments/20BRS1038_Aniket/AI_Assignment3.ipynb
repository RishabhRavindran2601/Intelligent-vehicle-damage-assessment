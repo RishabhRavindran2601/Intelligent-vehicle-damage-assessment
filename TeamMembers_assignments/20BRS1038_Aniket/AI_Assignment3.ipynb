{
 "cells": [
  {
   "cell_type": "markdown",
   "id": "0094ebd3",
   "metadata": {},
   "source": [
    "### ANIKET KULKARNI, 20BRS1038, VIT - CHENNAI, ASSIGNMENT 3"
   ]
  },
  {
   "cell_type": "code",
   "execution_count": 1,
   "id": "0e5d0b45",
   "metadata": {},
   "outputs": [],
   "source": [
    "# Data Augmentation\n",
    "from tensorflow.keras.preprocessing.image import ImageDataGenerator"
   ]
  },
  {
   "cell_type": "code",
   "execution_count": 2,
   "id": "0cb79a81",
   "metadata": {},
   "outputs": [],
   "source": [
    "train_gen = ImageDataGenerator(rescale=(1./255),horizontal_flip=True,shear_range=0.2)\n",
    "test_gen = ImageDataGenerator(rescale=(1./255))  #--> (0 to 255) convert to (0 to 1)"
   ]
  },
  {
   "cell_type": "code",
   "execution_count": 3,
   "id": "f8c1542f",
   "metadata": {},
   "outputs": [
    {
     "name": "stdout",
     "output_type": "stream",
     "text": [
      "Found 150 images belonging to 1 classes.\n",
      "Found 157 images belonging to 1 classes.\n"
     ]
    }
   ],
   "source": [
    "train = train_gen.flow_from_directory('Assignment3/train_data',\n",
    "                                      target_size=(120, 120),\n",
    "                                      class_mode='categorical', \n",
    "                                      batch_size=8)\n",
    "test = test_gen.flow_from_directory('Assignment3/test_data',\n",
    "                                    target_size=(120, 120),\n",
    "                                      class_mode='categorical', \n",
    "                                      batch_size=8)"
   ]
  },
  {
   "cell_type": "code",
   "execution_count": 4,
   "id": "1cfe7ba7",
   "metadata": {},
   "outputs": [
    {
     "data": {
      "text/plain": [
       "{'train_data': 0}"
      ]
     },
     "execution_count": 4,
     "metadata": {},
     "output_type": "execute_result"
    }
   ],
   "source": [
    "train.class_indices"
   ]
  },
  {
   "cell_type": "code",
   "execution_count": 5,
   "id": "85ed040f",
   "metadata": {},
   "outputs": [],
   "source": [
    "# CNN\n",
    "from tensorflow.keras.layers import Convolution2D,MaxPooling2D,Flatten,Dense\n",
    "from tensorflow.keras.models import Sequential"
   ]
  },
  {
   "cell_type": "code",
   "execution_count": 6,
   "id": "15769f9c",
   "metadata": {},
   "outputs": [],
   "source": [
    "model = Sequential()\n",
    "model.add(Convolution2D(20,(3,3),activation='relu',input_shape=(120, 120, 3)))\n",
    "model.add(MaxPooling2D(pool_size=(2,2)))\n",
    "model.add(Flatten())\n",
    "model.add(Dense(45,activation='relu'))\n",
    "model.add(Dense(4,activation='softmax'))"
   ]
  },
  {
   "cell_type": "code",
   "execution_count": 7,
   "id": "5828db73",
   "metadata": {},
   "outputs": [],
   "source": [
    "model.compile(optimizer='adam',loss='categorical_crossentropy',metrics=['accuracy'])"
   ]
  },
  {
   "cell_type": "code",
   "execution_count": 8,
   "id": "02ffb7d7",
   "metadata": {},
   "outputs": [
    {
     "name": "stdout",
     "output_type": "stream",
     "text": [
      "Epoch 1/5\n",
      "19/19 [==============================] - 71s 4s/step - loss: 229.5872 - accuracy: 0.0000e+00 - val_loss: 664.5809 - val_accuracy: 0.0000e+00\n",
      "Epoch 2/5\n",
      "19/19 [==============================] - 66s 4s/step - loss: 1494.0677 - accuracy: 0.0000e+00 - val_loss: 2834.3384 - val_accuracy: 0.0000e+00\n",
      "Epoch 3/5\n",
      "19/19 [==============================] - 67s 4s/step - loss: 4379.3428 - accuracy: 0.1067 - val_loss: 6574.4150 - val_accuracy: 0.0000e+00\n",
      "Epoch 4/5\n",
      "19/19 [==============================] - 67s 4s/step - loss: 9091.8213 - accuracy: 0.2200 - val_loss: 12627.3213 - val_accuracy: 1.0000\n",
      "Epoch 5/5\n",
      "19/19 [==============================] - 65s 4s/step - loss: 15870.9199 - accuracy: 0.3267 - val_loss: 20440.0840 - val_accuracy: 0.4076\n"
     ]
    },
    {
     "data": {
      "text/plain": [
       "<keras.callbacks.History at 0x1bdfcfcc3d0>"
      ]
     },
     "execution_count": 8,
     "metadata": {},
     "output_type": "execute_result"
    }
   ],
   "source": [
    "model.fit(train,batch_size=8,validation_data=test,epochs=5)"
   ]
  },
  {
   "cell_type": "code",
   "execution_count": 9,
   "id": "e07dd9f4",
   "metadata": {},
   "outputs": [],
   "source": [
    "model.save('model1.h5')"
   ]
  },
  {
   "cell_type": "code",
   "execution_count": 10,
   "id": "a8588353",
   "metadata": {},
   "outputs": [],
   "source": [
    "# Testing\n",
    "import numpy as np\n",
    "from tensorflow.keras.preprocessing import image"
   ]
  },
  {
   "cell_type": "code",
   "execution_count": 11,
   "id": "50f05382",
   "metadata": {},
   "outputs": [
    {
     "name": "stdout",
     "output_type": "stream",
     "text": [
      "1/1 [==============================] - 0s 141ms/step\n",
      "3\n",
      "mgprob\n"
     ]
    }
   ],
   "source": [
    "# Testing \n",
    "img1 = image.load_img('Assignment3/test_data/test_data/indvul/_DSC8754.jpg',target_size=(120,120))\n",
    "img1 = image.img_to_array(img1)\n",
    "img1 = np.expand_dims(img1,axis=0)\n",
    "pred = np.argmax(model.predict(img1))\n",
    "print(pred)\n",
    "output = ['blasti', 'bonegi', 'indvul', 'mgprob']\n",
    "print(output[pred])"
   ]
  },
  {
   "cell_type": "markdown",
   "id": "60f64b1f",
   "metadata": {},
   "source": [
    "#### Model tuning (Adding feature extraction layers)"
   ]
  },
  {
   "cell_type": "code",
   "execution_count": 12,
   "id": "dc0ab18a",
   "metadata": {},
   "outputs": [],
   "source": [
    "model = Sequential()\n",
    "model.add(Convolution2D(12,(3,3),activation='relu',input_shape=(120, 120, 3)))\n",
    "model.add(MaxPooling2D(pool_size=(2,2)))\n",
    "model.add(Convolution2D(24,(3,3),activation='relu'))\n",
    "model.add(MaxPooling2D(pool_size=(2,2)))\n",
    "model.add(Convolution2D(36,(3,3),activation='relu'))\n",
    "model.add(MaxPooling2D(pool_size=(2,2)))\n",
    "model.add(Flatten())\n",
    "model.add(Dense(62,activation='relu'))\n",
    "model.add(Dense(32,activation='relu'))\n",
    "model.add(Dense(16,activation='relu'))\n",
    "model.add(Dense(4,activation='softmax'))"
   ]
  },
  {
   "cell_type": "code",
   "execution_count": 13,
   "id": "2fc6e088",
   "metadata": {},
   "outputs": [
    {
     "name": "stdout",
     "output_type": "stream",
     "text": [
      "Model: \"sequential_1\"\n",
      "_________________________________________________________________\n",
      " Layer (type)                Output Shape              Param #   \n",
      "=================================================================\n",
      " conv2d_1 (Conv2D)           (None, 118, 118, 12)      336       \n",
      "                                                                 \n",
      " max_pooling2d_1 (MaxPooling  (None, 59, 59, 12)       0         \n",
      " 2D)                                                             \n",
      "                                                                 \n",
      " conv2d_2 (Conv2D)           (None, 57, 57, 24)        2616      \n",
      "                                                                 \n",
      " max_pooling2d_2 (MaxPooling  (None, 28, 28, 24)       0         \n",
      " 2D)                                                             \n",
      "                                                                 \n",
      " conv2d_3 (Conv2D)           (None, 26, 26, 36)        7812      \n",
      "                                                                 \n",
      " max_pooling2d_3 (MaxPooling  (None, 13, 13, 36)       0         \n",
      " 2D)                                                             \n",
      "                                                                 \n",
      " flatten_1 (Flatten)         (None, 6084)              0         \n",
      "                                                                 \n",
      " dense_2 (Dense)             (None, 62)                377270    \n",
      "                                                                 \n",
      " dense_3 (Dense)             (None, 32)                2016      \n",
      "                                                                 \n",
      " dense_4 (Dense)             (None, 16)                528       \n",
      "                                                                 \n",
      " dense_5 (Dense)             (None, 4)                 68        \n",
      "                                                                 \n",
      "=================================================================\n",
      "Total params: 390,646\n",
      "Trainable params: 390,646\n",
      "Non-trainable params: 0\n",
      "_________________________________________________________________\n"
     ]
    }
   ],
   "source": [
    "model.summary()"
   ]
  },
  {
   "cell_type": "code",
   "execution_count": 14,
   "id": "7b0c524c",
   "metadata": {},
   "outputs": [],
   "source": [
    "model.compile(optimizer='adam',loss='categorical_crossentropy',metrics=['accuracy'])"
   ]
  },
  {
   "cell_type": "code",
   "execution_count": 15,
   "id": "d2dfca2c",
   "metadata": {},
   "outputs": [
    {
     "name": "stdout",
     "output_type": "stream",
     "text": [
      "Epoch 1/5\n",
      "19/19 [==============================] - 70s 4s/step - loss: 112.9255 - accuracy: 0.0000e+00 - val_loss: 605.4618 - val_accuracy: 0.0000e+00\n",
      "Epoch 2/5\n",
      "19/19 [==============================] - 64s 3s/step - loss: 5085.8032 - accuracy: 0.0000e+00 - val_loss: 18604.7617 - val_accuracy: 0.0000e+00\n",
      "Epoch 3/5\n",
      "19/19 [==============================] - 65s 3s/step - loss: 86681.4453 - accuracy: 0.0000e+00 - val_loss: 251590.3906 - val_accuracy: 0.0000e+00\n",
      "Epoch 4/5\n",
      "19/19 [==============================] - 65s 4s/step - loss: 813188.8125 - accuracy: 0.0000e+00 - val_loss: 1953044.3750 - val_accuracy: 0.0000e+00\n",
      "Epoch 5/5\n",
      "19/19 [==============================] - 66s 4s/step - loss: 4849575.5000 - accuracy: 0.0000e+00 - val_loss: 10324988.0000 - val_accuracy: 0.0000e+00\n"
     ]
    },
    {
     "data": {
      "text/plain": [
       "<keras.callbacks.History at 0x1bd82b41460>"
      ]
     },
     "execution_count": 15,
     "metadata": {},
     "output_type": "execute_result"
    }
   ],
   "source": [
    "model.fit(train,batch_size=8,validation_data=test,epochs=5)"
   ]
  },
  {
   "cell_type": "code",
   "execution_count": 16,
   "id": "ed3b9e16",
   "metadata": {},
   "outputs": [
    {
     "name": "stdout",
     "output_type": "stream",
     "text": [
      "1/1 [==============================] - 0s 78ms/step\n",
      "3\n",
      "mgprob\n"
     ]
    }
   ],
   "source": [
    "# Testing \n",
    "img1 = image.load_img('Assignment3/test_data/test_data/indvul/_DSC8754.jpg',target_size=(120,120))\n",
    "img1 = image.img_to_array(img1)\n",
    "img1 = np.expand_dims(img1,axis=0)\n",
    "pred = np.argmax(model.predict(img1))\n",
    "print(pred)\n",
    "output = ['blasti', 'bonegi', 'indvul', 'mgprob']\n",
    "print(output[pred])"
   ]
  },
  {
   "cell_type": "markdown",
   "id": "6ea63087",
   "metadata": {},
   "source": [
    "#### Model tuning (with dropout, batch normalization & early stopping)"
   ]
  },
  {
   "cell_type": "code",
   "execution_count": 17,
   "id": "bf907539",
   "metadata": {},
   "outputs": [],
   "source": [
    "from tensorflow.keras.layers import BatchNormalization, Dropout"
   ]
  },
  {
   "cell_type": "code",
   "execution_count": 18,
   "id": "d7bf43c2",
   "metadata": {},
   "outputs": [],
   "source": [
    "# Initializing the seq model\n",
    "model = Sequential()\n",
    "# Adding conv layer with input\n",
    "model.add(Convolution2D(12,(3,3),activation='relu',input_shape=(120, 120, 3)))\n",
    "# Normalizing the conv layer output\n",
    "model.add(BatchNormalization())\n",
    "# Selecting the max values\n",
    "model.add(MaxPooling2D(pool_size=(2,2)))\n",
    "# Dropping the unwanted 20% of data\n",
    "model.add(Dropout(0.2))\n",
    "model.add(Convolution2D(24,(3,3),activation='relu'))\n",
    "model.add(BatchNormalization())\n",
    "model.add(MaxPooling2D(pool_size=(2,2)))\n",
    "model.add(Dropout(0.2))\n",
    "model.add(Convolution2D(36,(3,3),activation='relu'))\n",
    "model.add(BatchNormalization())\n",
    "model.add(MaxPooling2D(pool_size=(2,2)))\n",
    "model.add(Dropout(0.2))\n",
    "model.add(Flatten())\n",
    "# Hiddern layers\n",
    "model.add(Dense(62,activation='relu'))\n",
    "model.add(BatchNormalization())\n",
    "model.add(Dropout(0.1))\n",
    "model.add(Dense(32,activation='relu'))\n",
    "model.add(Dense(16,activation='relu'))\n",
    "# Output layer\n",
    "model.add(Dense(4,activation='softmax'))\n",
    "     "
   ]
  },
  {
   "cell_type": "code",
   "execution_count": 19,
   "id": "3b78f111",
   "metadata": {},
   "outputs": [
    {
     "name": "stdout",
     "output_type": "stream",
     "text": [
      "Model: \"sequential_2\"\n",
      "_________________________________________________________________\n",
      " Layer (type)                Output Shape              Param #   \n",
      "=================================================================\n",
      " conv2d_4 (Conv2D)           (None, 118, 118, 12)      336       \n",
      "                                                                 \n",
      " batch_normalization (BatchN  (None, 118, 118, 12)     48        \n",
      " ormalization)                                                   \n",
      "                                                                 \n",
      " max_pooling2d_4 (MaxPooling  (None, 59, 59, 12)       0         \n",
      " 2D)                                                             \n",
      "                                                                 \n",
      " dropout (Dropout)           (None, 59, 59, 12)        0         \n",
      "                                                                 \n",
      " conv2d_5 (Conv2D)           (None, 57, 57, 24)        2616      \n",
      "                                                                 \n",
      " batch_normalization_1 (Batc  (None, 57, 57, 24)       96        \n",
      " hNormalization)                                                 \n",
      "                                                                 \n",
      " max_pooling2d_5 (MaxPooling  (None, 28, 28, 24)       0         \n",
      " 2D)                                                             \n",
      "                                                                 \n",
      " dropout_1 (Dropout)         (None, 28, 28, 24)        0         \n",
      "                                                                 \n",
      " conv2d_6 (Conv2D)           (None, 26, 26, 36)        7812      \n",
      "                                                                 \n",
      " batch_normalization_2 (Batc  (None, 26, 26, 36)       144       \n",
      " hNormalization)                                                 \n",
      "                                                                 \n",
      " max_pooling2d_6 (MaxPooling  (None, 13, 13, 36)       0         \n",
      " 2D)                                                             \n",
      "                                                                 \n",
      " dropout_2 (Dropout)         (None, 13, 13, 36)        0         \n",
      "                                                                 \n",
      " flatten_2 (Flatten)         (None, 6084)              0         \n",
      "                                                                 \n",
      " dense_6 (Dense)             (None, 62)                377270    \n",
      "                                                                 \n",
      " batch_normalization_3 (Batc  (None, 62)               248       \n",
      " hNormalization)                                                 \n",
      "                                                                 \n",
      " dropout_3 (Dropout)         (None, 62)                0         \n",
      "                                                                 \n",
      " dense_7 (Dense)             (None, 32)                2016      \n",
      "                                                                 \n",
      " dense_8 (Dense)             (None, 16)                528       \n",
      "                                                                 \n",
      " dense_9 (Dense)             (None, 4)                 68        \n",
      "                                                                 \n",
      "=================================================================\n",
      "Total params: 391,182\n",
      "Trainable params: 390,914\n",
      "Non-trainable params: 268\n",
      "_________________________________________________________________\n"
     ]
    }
   ],
   "source": [
    "model.summary()"
   ]
  },
  {
   "cell_type": "code",
   "execution_count": 20,
   "id": "df3cc777",
   "metadata": {},
   "outputs": [],
   "source": [
    "model.compile(optimizer='adam',loss='categorical_crossentropy',metrics=['accuracy'])"
   ]
  },
  {
   "cell_type": "code",
   "execution_count": 21,
   "id": "6f075c76",
   "metadata": {},
   "outputs": [
    {
     "name": "stdout",
     "output_type": "stream",
     "text": [
      "Epoch 1/5\n",
      "19/19 [==============================] - 69s 4s/step - loss: 6.5957 - accuracy: 0.2933 - val_loss: 5.6582 - val_accuracy: 0.0701\n",
      "Epoch 2/5\n",
      "19/19 [==============================] - 66s 4s/step - loss: 8.2405 - accuracy: 0.3733 - val_loss: 5.7208 - val_accuracy: 0.3503\n",
      "Epoch 3/5\n",
      "19/19 [==============================] - 67s 4s/step - loss: 10.3546 - accuracy: 0.3667 - val_loss: 6.0327 - val_accuracy: 0.4459\n",
      "Epoch 4/5\n",
      "19/19 [==============================] - 65s 4s/step - loss: 13.9781 - accuracy: 0.2267 - val_loss: 7.6104 - val_accuracy: 0.0000e+00\n",
      "Epoch 5/5\n",
      "19/19 [==============================] - 66s 4s/step - loss: 22.7111 - accuracy: 0.0000e+00 - val_loss: 14.1544 - val_accuracy: 0.0000e+00\n"
     ]
    },
    {
     "data": {
      "text/plain": [
       "<keras.callbacks.History at 0x1bd85260c70>"
      ]
     },
     "execution_count": 21,
     "metadata": {},
     "output_type": "execute_result"
    }
   ],
   "source": [
    "model.fit(train,batch_size=8,validation_data=test,epochs=5)"
   ]
  },
  {
   "cell_type": "code",
   "execution_count": 22,
   "id": "fd5bca2b",
   "metadata": {},
   "outputs": [
    {
     "name": "stdout",
     "output_type": "stream",
     "text": [
      "1/1 [==============================] - 0s 156ms/step\n",
      "3\n",
      "mgprob\n"
     ]
    }
   ],
   "source": [
    "# Testing \n",
    "img1 = image.load_img('Assignment3/test_data/test_data/indvul/_DSC8754.jpg',target_size=(120,120))\n",
    "img1 = image.img_to_array(img1)\n",
    "img1 = np.expand_dims(img1,axis=0)\n",
    "pred = np.argmax(model.predict(img1))\n",
    "print(pred)\n",
    "output = ['blasti', 'bonegi', 'indvul', 'mgprob']\n",
    "print(output[pred])"
   ]
  },
  {
   "cell_type": "markdown",
   "id": "920a9182",
   "metadata": {},
   "source": [
    "#### Model tuning (with dropout, batch normalization & early stopping)"
   ]
  },
  {
   "cell_type": "code",
   "execution_count": 23,
   "id": "86b53d74",
   "metadata": {},
   "outputs": [],
   "source": [
    "from tensorflow.keras.layers import BatchNormalization, Dropout"
   ]
  },
  {
   "cell_type": "code",
   "execution_count": 24,
   "id": "0605540d",
   "metadata": {},
   "outputs": [],
   "source": [
    "# Initializing the seq model\n",
    "model = Sequential()\n",
    "# Adding conv layer with input\n",
    "model.add(Convolution2D(12,(3,3),activation='relu',input_shape=(120, 120, 3)))\n",
    "# Normalizing the conv layer output\n",
    "model.add(BatchNormalization())\n",
    "# Selecting the max values\n",
    "model.add(MaxPooling2D(pool_size=(2,2)))\n",
    "# Dropping the unwanted 20% of data\n",
    "model.add(Dropout(0.2))\n",
    "model.add(Convolution2D(24,(3,3),activation='relu'))\n",
    "model.add(BatchNormalization())\n",
    "model.add(MaxPooling2D(pool_size=(2,2)))\n",
    "model.add(Dropout(0.2))\n",
    "model.add(Convolution2D(36,(3,3),activation='relu'))\n",
    "model.add(BatchNormalization())\n",
    "model.add(MaxPooling2D(pool_size=(2,2)))\n",
    "model.add(Dropout(0.2))\n",
    "model.add(Flatten())\n",
    "# Hiddern layers\n",
    "model.add(Dense(62,activation='relu'))\n",
    "model.add(BatchNormalization())\n",
    "model.add(Dropout(0.1))\n",
    "model.add(Dense(32,activation='relu'))\n",
    "model.add(Dense(16,activation='relu'))\n",
    "# Output layer\n",
    "model.add(Dense(4,activation='softmax'))\n",
    "     "
   ]
  },
  {
   "cell_type": "code",
   "execution_count": 25,
   "id": "3a723f7e",
   "metadata": {},
   "outputs": [
    {
     "name": "stdout",
     "output_type": "stream",
     "text": [
      "Model: \"sequential_3\"\n",
      "_________________________________________________________________\n",
      " Layer (type)                Output Shape              Param #   \n",
      "=================================================================\n",
      " conv2d_7 (Conv2D)           (None, 118, 118, 12)      336       \n",
      "                                                                 \n",
      " batch_normalization_4 (Batc  (None, 118, 118, 12)     48        \n",
      " hNormalization)                                                 \n",
      "                                                                 \n",
      " max_pooling2d_7 (MaxPooling  (None, 59, 59, 12)       0         \n",
      " 2D)                                                             \n",
      "                                                                 \n",
      " dropout_4 (Dropout)         (None, 59, 59, 12)        0         \n",
      "                                                                 \n",
      " conv2d_8 (Conv2D)           (None, 57, 57, 24)        2616      \n",
      "                                                                 \n",
      " batch_normalization_5 (Batc  (None, 57, 57, 24)       96        \n",
      " hNormalization)                                                 \n",
      "                                                                 \n",
      " max_pooling2d_8 (MaxPooling  (None, 28, 28, 24)       0         \n",
      " 2D)                                                             \n",
      "                                                                 \n",
      " dropout_5 (Dropout)         (None, 28, 28, 24)        0         \n",
      "                                                                 \n",
      " conv2d_9 (Conv2D)           (None, 26, 26, 36)        7812      \n",
      "                                                                 \n",
      " batch_normalization_6 (Batc  (None, 26, 26, 36)       144       \n",
      " hNormalization)                                                 \n",
      "                                                                 \n",
      " max_pooling2d_9 (MaxPooling  (None, 13, 13, 36)       0         \n",
      " 2D)                                                             \n",
      "                                                                 \n",
      " dropout_6 (Dropout)         (None, 13, 13, 36)        0         \n",
      "                                                                 \n",
      " flatten_3 (Flatten)         (None, 6084)              0         \n",
      "                                                                 \n",
      " dense_10 (Dense)            (None, 62)                377270    \n",
      "                                                                 \n",
      " batch_normalization_7 (Batc  (None, 62)               248       \n",
      " hNormalization)                                                 \n",
      "                                                                 \n",
      " dropout_7 (Dropout)         (None, 62)                0         \n",
      "                                                                 \n",
      " dense_11 (Dense)            (None, 32)                2016      \n",
      "                                                                 \n",
      " dense_12 (Dense)            (None, 16)                528       \n",
      "                                                                 \n",
      " dense_13 (Dense)            (None, 4)                 68        \n",
      "                                                                 \n",
      "=================================================================\n",
      "Total params: 391,182\n",
      "Trainable params: 390,914\n",
      "Non-trainable params: 268\n",
      "_________________________________________________________________\n"
     ]
    }
   ],
   "source": [
    "model.summary()"
   ]
  },
  {
   "cell_type": "code",
   "execution_count": 26,
   "id": "0524d877",
   "metadata": {},
   "outputs": [],
   "source": [
    "model.compile(optimizer='adam',loss='categorical_crossentropy',metrics=['accuracy'])"
   ]
  },
  {
   "cell_type": "code",
   "execution_count": 27,
   "id": "7b2c6af7",
   "metadata": {},
   "outputs": [],
   "source": [
    "# Early stopping\n",
    "from tensorflow.keras.callbacks import EarlyStopping"
   ]
  },
  {
   "cell_type": "code",
   "execution_count": 28,
   "id": "0857af8f",
   "metadata": {},
   "outputs": [],
   "source": [
    "early_stop = EarlyStopping(monitor='accuracy',patience=8)"
   ]
  },
  {
   "cell_type": "code",
   "execution_count": 29,
   "id": "4fc820f5",
   "metadata": {},
   "outputs": [
    {
     "name": "stdout",
     "output_type": "stream",
     "text": [
      "Epoch 1/5\n",
      "19/19 [==============================] - 69s 4s/step - loss: 6.1036 - accuracy: 0.1267 - val_loss: 5.6167 - val_accuracy: 0.0000e+00\n",
      "Epoch 2/5\n",
      "19/19 [==============================] - 66s 4s/step - loss: 6.4417 - accuracy: 0.0133 - val_loss: 6.8314 - val_accuracy: 0.0000e+00\n",
      "Epoch 3/5\n",
      "19/19 [==============================] - 64s 3s/step - loss: 7.5064 - accuracy: 0.0067 - val_loss: 9.0211 - val_accuracy: 0.0000e+00\n",
      "Epoch 4/5\n",
      "19/19 [==============================] - 66s 4s/step - loss: 9.4602 - accuracy: 0.0000e+00 - val_loss: 9.4267 - val_accuracy: 0.0000e+00\n",
      "Epoch 5/5\n",
      "19/19 [==============================] - 65s 4s/step - loss: 13.0110 - accuracy: 0.0000e+00 - val_loss: 10.3040 - val_accuracy: 0.0000e+00\n"
     ]
    },
    {
     "data": {
      "text/plain": [
       "<keras.callbacks.History at 0x1bd86c2dd30>"
      ]
     },
     "execution_count": 29,
     "metadata": {},
     "output_type": "execute_result"
    }
   ],
   "source": [
    "model.fit(train,batch_size=8,validation_data=test,epochs=5,callbacks=early_stop)"
   ]
  },
  {
   "cell_type": "code",
   "execution_count": 30,
   "id": "a9eec920",
   "metadata": {},
   "outputs": [
    {
     "name": "stdout",
     "output_type": "stream",
     "text": [
      "1/1 [==============================] - 0s 109ms/step\n",
      "1\n",
      "bonegi\n"
     ]
    }
   ],
   "source": [
    "# Testing \n",
    "img1 = image.load_img('Assignment3/test_data/test_data/indvul/_DSC8754.jpg',target_size=(120,120))\n",
    "img1 = image.img_to_array(img1)\n",
    "img1 = np.expand_dims(img1,axis=0)\n",
    "pred = np.argmax(model.predict(img1))\n",
    "print(pred)\n",
    "output = ['blasti', 'bonegi', 'indvul', 'mgprob']\n",
    "print(output[pred])"
   ]
  }
 ],
 "metadata": {
  "kernelspec": {
   "display_name": "Python 3 (ipykernel)",
   "language": "python",
   "name": "python3"
  },
  "language_info": {
   "codemirror_mode": {
    "name": "ipython",
    "version": 3
   },
   "file_extension": ".py",
   "mimetype": "text/x-python",
   "name": "python",
   "nbconvert_exporter": "python",
   "pygments_lexer": "ipython3",
   "version": "3.9.13"
  }
 },
 "nbformat": 4,
 "nbformat_minor": 5
}
